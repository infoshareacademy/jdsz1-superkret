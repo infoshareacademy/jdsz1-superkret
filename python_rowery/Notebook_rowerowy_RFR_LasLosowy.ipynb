{
 "cells": [
  {
   "cell_type": "code",
   "execution_count": 1,
   "metadata": {
    "ExecuteTime": {
     "end_time": "2018-06-13T20:19:34.891717Z",
     "start_time": "2018-06-13T20:19:34.501760Z"
    }
   },
   "outputs": [],
   "source": [
    "%matplotlib inline"
   ]
  },
  {
   "cell_type": "code",
   "execution_count": 2,
   "metadata": {
    "ExecuteTime": {
     "end_time": "2018-06-13T20:19:35.466682Z",
     "start_time": "2018-06-13T20:19:34.896555Z"
    }
   },
   "outputs": [],
   "source": [
    "import pandas as pd\n",
    "import matplotlib.pyplot as plt\n",
    "import seaborn as sns\n",
    "import numpy as np\n",
    "from sklearn.model_selection import cross_val_score\n",
    "from tqdm import tqdm\n"
   ]
  },
  {
   "cell_type": "code",
   "execution_count": 3,
   "metadata": {
    "ExecuteTime": {
     "end_time": "2018-06-13T20:19:35.577819Z",
     "start_time": "2018-06-13T20:19:35.469088Z"
    }
   },
   "outputs": [],
   "source": [
    "\n",
    "from sklearn.ensemble import RandomForestRegressor"
   ]
  },
  {
   "cell_type": "markdown",
   "metadata": {
    "ExecuteTime": {
     "end_time": "2018-06-06T21:31:27.099486Z",
     "start_time": "2018-06-06T21:31:27.094170Z"
    }
   },
   "source": [
    "Loading data\n",
    "\n"
   ]
  },
  {
   "cell_type": "code",
   "execution_count": 4,
   "metadata": {
    "ExecuteTime": {
     "end_time": "2018-06-13T20:19:35.614041Z",
     "start_time": "2018-06-13T20:19:35.579850Z"
    }
   },
   "outputs": [],
   "source": [
    "train_bike = pd.read_csv(\"train.csv\")\n",
    "\n",
    "#test_bike = pd.read_csv(\"test.csv\")"
   ]
  },
  {
   "cell_type": "code",
   "execution_count": 5,
   "metadata": {
    "ExecuteTime": {
     "end_time": "2018-06-13T20:19:35.631057Z",
     "start_time": "2018-06-13T20:19:35.616987Z"
    }
   },
   "outputs": [
    {
     "data": {
      "text/plain": [
       "0    2011-01-01 00:00:00\n",
       "1    2011-01-01 01:00:00\n",
       "2    2011-01-01 02:00:00\n",
       "3    2011-01-01 03:00:00\n",
       "4    2011-01-01 04:00:00\n",
       "Name: datetime, dtype: object"
      ]
     },
     "execution_count": 5,
     "metadata": {},
     "output_type": "execute_result"
    }
   ],
   "source": [
    "train_bike[\"datetime\"].head()"
   ]
  },
  {
   "cell_type": "code",
   "execution_count": 6,
   "metadata": {
    "ExecuteTime": {
     "end_time": "2018-06-13T20:19:35.656655Z",
     "start_time": "2018-06-13T20:19:35.632885Z"
    }
   },
   "outputs": [
    {
     "data": {
      "text/plain": [
       "count                   10886\n",
       "unique                  10886\n",
       "top       2011-06-09 04:00:00\n",
       "freq                        1\n",
       "first     2011-01-01 00:00:00\n",
       "last      2012-12-19 23:00:00\n",
       "Name: datetime, dtype: object"
      ]
     },
     "execution_count": 6,
     "metadata": {},
     "output_type": "execute_result"
    }
   ],
   "source": [
    "train_bike[\"datetime\"] = pd.to_datetime(train_bike[\"datetime\"])\n",
    "\n",
    "train_bike[\"datetime\"].describe()"
   ]
  },
  {
   "cell_type": "code",
   "execution_count": 7,
   "metadata": {
    "ExecuteTime": {
     "end_time": "2018-06-13T20:19:35.681685Z",
     "start_time": "2018-06-13T20:19:35.665662Z"
    }
   },
   "outputs": [],
   "source": [
    "train_bike[\"dayofweek\"] = train_bike[\"datetime\"].dt.dayofweek      #The day of the week with Monday=0, Sunday=6\n",
    "train_bike[\"year\"] = train_bike[\"datetime\"].dt.year\n",
    "train_bike[\"month\"] = train_bike[\"datetime\"].dt.month\n",
    "train_bike[\"day\"] = train_bike[\"datetime\"].dt.day\n",
    "train_bike[\"hour\"] = train_bike[\"datetime\"].dt.hour"
   ]
  },
  {
   "cell_type": "code",
   "execution_count": 8,
   "metadata": {
    "ExecuteTime": {
     "end_time": "2018-06-13T20:19:35.698647Z",
     "start_time": "2018-06-13T20:19:35.686425Z"
    }
   },
   "outputs": [],
   "source": [
    "X = train_bike[[\"season\", \"holiday\", \"workingday\", \"weather\",\"temp\",\"humidity\",\"windspeed\"]]\n",
    "y = train_bike[\"registered\"]"
   ]
  },
  {
   "cell_type": "code",
   "execution_count": 9,
   "metadata": {
    "ExecuteTime": {
     "end_time": "2018-06-13T20:19:35.714893Z",
     "start_time": "2018-06-13T20:19:35.701187Z"
    }
   },
   "outputs": [],
   "source": [
    "from sklearn.model_selection import train_test_split #dzielnie na zetsawy\n",
    "X_train, X_test, y_train, y_test = train_test_split(X, y, \n",
    "                                                    test_size=0.33, random_state=42)"
   ]
  },
  {
   "cell_type": "code",
   "execution_count": 10,
   "metadata": {
    "ExecuteTime": {
     "end_time": "2018-06-13T20:19:35.723868Z",
     "start_time": "2018-06-13T20:19:35.718402Z"
    }
   },
   "outputs": [],
   "source": [
    "best_score = 0\n",
    "parameters = {}"
   ]
  },
  {
   "cell_type": "code",
   "execution_count": 11,
   "metadata": {
    "ExecuteTime": {
     "end_time": "2018-06-13T20:19:35.733147Z",
     "start_time": "2018-06-13T20:19:35.727552Z"
    }
   },
   "outputs": [],
   "source": [
    "from tqdm import tqdm"
   ]
  },
  {
   "cell_type": "code",
   "execution_count": null,
   "metadata": {
    "ExecuteTime": {
     "start_time": "2018-06-13T20:19:34.622Z"
    }
   },
   "outputs": [
    {
     "name": "stderr",
     "output_type": "stream",
     "text": [
      "\r",
      "  0%|          | 0/99 [00:00<?, ?it/s]"
     ]
    },
    {
     "name": "stdout",
     "output_type": "stream",
     "text": [
      "Accuracy: 0.13129258880923098\n",
      "max_features: 0.05, min_samples_split: 2, min_samples_leaf: 1, criterion: mse, bootstrap: True\n",
      "Accuracy: 0.1908595864133889\n",
      "max_features: 0.05, min_samples_split: 2, min_samples_leaf: 1, criterion: mae, bootstrap: True\n",
      "Accuracy: 0.20890719253350398\n",
      "max_features: 0.05, min_samples_split: 2, min_samples_leaf: 2, criterion: mse, bootstrap: True\n",
      "Accuracy: 0.2262835909679536\n",
      "max_features: 0.05, min_samples_split: 2, min_samples_leaf: 3, criterion: mse, bootstrap: True\n",
      "Accuracy: 0.23545489391659102\n",
      "max_features: 0.05, min_samples_split: 2, min_samples_leaf: 4, criterion: mse, bootstrap: True\n",
      "Accuracy: 0.2432141438291449\n",
      "max_features: 0.05, min_samples_split: 2, min_samples_leaf: 5, criterion: mse, bootstrap: False\n",
      "Accuracy: 0.24402730790877653\n",
      "max_features: 0.05, min_samples_split: 2, min_samples_leaf: 6, criterion: mse, bootstrap: False\n",
      "Accuracy: 0.24474320518096532\n",
      "max_features: 0.05, min_samples_split: 5, min_samples_leaf: 8, criterion: mse, bootstrap: False\n",
      "Accuracy: 0.24733871550651054\n",
      "max_features: 0.05, min_samples_split: 10, min_samples_leaf: 7, criterion: mse, bootstrap: False\n",
      "Accuracy: 0.24792130017241004\n",
      "max_features: 0.25, min_samples_split: 4, min_samples_leaf: 8, criterion: mse, bootstrap: False\n",
      "Accuracy: 0.24924999253515664\n",
      "max_features: 0.3, min_samples_split: 2, min_samples_leaf: 8, criterion: mse, bootstrap: False\n",
      "Accuracy: 0.24983234765426424\n",
      "max_features: 0.3, min_samples_split: 2, min_samples_leaf: 9, criterion: mse, bootstrap: False\n",
      "Accuracy: 0.25038494038760495\n",
      "max_features: 0.3, min_samples_split: 2, min_samples_leaf: 11, criterion: mse, bootstrap: False\n",
      "Accuracy: 0.2514789925216573\n",
      "max_features: 0.3, min_samples_split: 3, min_samples_leaf: 10, criterion: mse, bootstrap: False\n",
      "Accuracy: 0.2515615847328089\n",
      "max_features: 0.3, min_samples_split: 5, min_samples_leaf: 6, criterion: mse, bootstrap: False\n",
      "Accuracy: 0.25187883712141496\n",
      "max_features: 0.3, min_samples_split: 11, min_samples_leaf: 6, criterion: mse, bootstrap: False\n",
      "Accuracy: 0.25192666757992493\n",
      "max_features: 0.3, min_samples_split: 13, min_samples_leaf: 11, criterion: mse, bootstrap: False\n",
      "Accuracy: 0.2523060739170067\n",
      "max_features: 0.3, min_samples_split: 15, min_samples_leaf: 6, criterion: mse, bootstrap: False\n",
      "Accuracy: 0.2532338369591972\n",
      "max_features: 0.35000000000000003, min_samples_split: 4, min_samples_leaf: 9, criterion: mse, bootstrap: False\n",
      "Accuracy: 0.25358713780134545\n",
      "max_features: 0.35000000000000003, min_samples_split: 6, min_samples_leaf: 10, criterion: mse, bootstrap: False\n"
     ]
    }
   ],
   "source": [
    "for n_estimators in tqdm(range(1,100)):\n",
    "    for max_features in np.arange(0.05, 1.01, 0.05):\n",
    "        for min_samples_split in range(2,21):\n",
    "            for min_samples_leaf in range(1,21):\n",
    "                for criterion in [\"mse\", \"mae\"]:\n",
    "                    for bootstrap in [True, False]:\n",
    "                        clf_rfr = RandomForestRegressor(max_features = max_features, min_samples_split = min_samples_split, \n",
    "                                                     min_samples_leaf = min_samples_leaf, criterion = criterion,\n",
    "                                                      bootstrap = bootstrap )\n",
    "                        try:\n",
    "                            scores = cross_val_score(clf_rfr, X_train, y_train, cv = 5)\n",
    "                        except ValueError as e:\n",
    "                            #print(e)\n",
    "                            continue\n",
    "                        if scores.mean() > best_score:\n",
    "                            #print(\"New best parameters!\")\n",
    "                            parameters[\"best_features\"] = max_features\n",
    "                            parameters[\"best_min_split\"] = min_samples_split\n",
    "                            parameters[\"best_min_leaf\"] = min_samples_leaf\n",
    "                            parameters[\"best_criterion\"] = criterion\n",
    "                            parameters[\"bootstrap\"] = bootstrap\n",
    "                            best_score = scores.mean()\n",
    "                            print(\"Accuracy: {}\".format(scores.mean()))\n",
    "                            print(\"max_features: {}, min_samples_split: {}, min_samples_leaf: {}, criterion: {}, bootstrap: {}\".format(max_features, \n",
    "                                                                                                                     min_samples_split, \n",
    "                                                                                                             min_samples_leaf, \n",
    "                                                                                                             criterion, bootstrap))"
   ]
  },
  {
   "cell_type": "code",
   "execution_count": null,
   "metadata": {
    "ExecuteTime": {
     "start_time": "2018-06-13T20:19:34.626Z"
    }
   },
   "outputs": [],
   "source": [
    "clf_rfr = RandomForestRegressor(criterion = 'mse')"
   ]
  },
  {
   "cell_type": "code",
   "execution_count": null,
   "metadata": {
    "ExecuteTime": {
     "start_time": "2018-06-13T20:19:34.637Z"
    }
   },
   "outputs": [],
   "source": [
    "clf_rfr.fit(X = X_train, y = y_train)"
   ]
  },
  {
   "cell_type": "code",
   "execution_count": null,
   "metadata": {
    "ExecuteTime": {
     "start_time": "2018-06-13T20:19:34.648Z"
    }
   },
   "outputs": [],
   "source": [
    "prediction_rfr = clf_rfr.predict(X_test)"
   ]
  },
  {
   "cell_type": "code",
   "execution_count": null,
   "metadata": {
    "ExecuteTime": {
     "start_time": "2018-06-13T20:19:34.652Z"
    }
   },
   "outputs": [],
   "source": [
    "prediction_rfr"
   ]
  }
 ],
 "metadata": {
  "kernelspec": {
   "display_name": "Python 3",
   "language": "python",
   "name": "python3"
  },
  "language_info": {
   "codemirror_mode": {
    "name": "ipython",
    "version": 3
   },
   "file_extension": ".py",
   "mimetype": "text/x-python",
   "name": "python",
   "nbconvert_exporter": "python",
   "pygments_lexer": "ipython3",
   "version": "3.6.5"
  }
 },
 "nbformat": 4,
 "nbformat_minor": 2
}
