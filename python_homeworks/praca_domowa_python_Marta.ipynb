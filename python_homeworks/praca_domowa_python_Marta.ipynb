{
 "cells": [
  {
   "cell_type": "markdown",
   "metadata": {},
   "source": [
    "1. Python (15%):\n",
    "Stworzyć listę 10 elementową z parami losowych liczb naturalnych od 1 d0 10. Cel: [(x1,y1),(x2,y2),...]\n"
   ]
  },
  {
   "cell_type": "code",
   "execution_count": null,
   "metadata": {},
   "outputs": [],
   "source": [
    "import random\n",
    "import pandas as pd\n",
    "import numpy as np\n",
    "np.random.seed(42)"
   ]
  },
  {
   "cell_type": "code",
   "execution_count": null,
   "metadata": {},
   "outputs": [],
   "source": [
    "lista=[]"
   ]
  },
  {
   "cell_type": "code",
   "execution_count": null,
   "metadata": {},
   "outputs": [],
   "source": [
    "for x in range(10):\n",
    "    z=random.randint(1,10)\n",
    "    m=random.randint(1,10)\n",
    "    l= [z,m]\n",
    "    lista.append(l)\n",
    "print(lista)"
   ]
  },
  {
   "cell_type": "markdown",
   "metadata": {},
   "source": [
    "Napisać funkcję która po otrzymaniu powyższej listy par stworzy listę z taką samą ilością elementów które będą potęgą: pierwszy element pary będzie podstawą a drugi element wykładnikiem. Cel: [x1^y1, x2^y2,...]\n"
   ]
  },
  {
   "cell_type": "code",
   "execution_count": null,
   "metadata": {},
   "outputs": [],
   "source": [
    "lis_pot=[]"
   ]
  },
  {
   "cell_type": "code",
   "execution_count": null,
   "metadata": {},
   "outputs": [],
   "source": [
    "def potega (lista_x, lista_y):\n",
    "    for i in range (0,10):\n",
    "        a=(lista_x[i][0]**lista_x[i][1])\n",
    "        lista_y.append(a)\n",
    "#print(a)\n",
    "    return (lista_y)"
   ]
  },
  {
   "cell_type": "code",
   "execution_count": null,
   "metadata": {},
   "outputs": [],
   "source": [
    "print(potega(lista, lis_pot))"
   ]
  },
  {
   "cell_type": "markdown",
   "metadata": {},
   "source": [
    "2.Pandas (15%):\n",
    "Stworzyć data frame który będzie miał pierwsze elementy z par zadania powyżej jako pierwszą kolumnę, a drugi element z pary jako drugą kolumnę. \n"
   ]
  },
  {
   "cell_type": "code",
   "execution_count": null,
   "metadata": {},
   "outputs": [],
   "source": [
    "df_l = pd.DataFrame(lista)\n",
    "df_l"
   ]
  },
  {
   "cell_type": "markdown",
   "metadata": {},
   "source": [
    "Dodać trzecią kolumnę która będzie potęgą tak jak w zadaniu 1. Uwaga: kolumna ta powinna być wyliczona z kolumny drugiej i trzeciej, a nie wzięta z listy z zadania 1."
   ]
  },
  {
   "cell_type": "code",
   "execution_count": null,
   "metadata": {},
   "outputs": [],
   "source": [
    "df_l[\"potega\"]=df_l[0]**df_l[1]\n",
    "print(df_l)"
   ]
  },
  {
   "cell_type": "markdown",
   "metadata": {},
   "source": [
    "3. Klasyfikacja (30%):\n",
    "Zbiór danych: https://archive.ics.uci.edu/ml/datasets/wine \n",
    "Jeden z algorytmów: decision tree, regresja logistyczna\n",
    "Użyć pętli dla przetestowania różnych wybranych parametrów\n",
    "Użyć cv\n"
   ]
  },
  {
   "cell_type": "code",
   "execution_count": null,
   "metadata": {},
   "outputs": [],
   "source": [
    "train_wine = pd.read_csv(\"wine.csv\", names=[\"Klasa\", \"Alcohol\", \"Malic_acid\", \"Ash\", \"Alcalinity_of_ash\",\n",
    "                                           \"Magnesium\", \"Total_phenols\", \"Flavanoids\", \"Nonflavanoid_phenols\",\n",
    "                                           \"Proanthocyanins\", \"Color_intensity\", \"Hue\",\n",
    "                                           \"OD280_OD315_of_diluted wines\", \"Proline\"\n",
    "                                          ])\n",
    "train_wine.describe()\n",
    "\n",
    "X = train_wine[[\"Alcohol\",\"Malic_acid\",\"Ash\",\"Alcalinity_of_ash\",\"Magnesium\",\"Total_phenols\",\"Flavanoids\",\"Nonflavanoid_phenols\",\n",
    "                \"Proanthocyanins\",\"Color_intensity\",\"Hue\",\"OD280_OD315_of_diluted wines\",\"Proline\"]]\n",
    "y = train_wine[[\"Klasa\"]]\n",
    "\n",
    "from sklearn.tree import DecisionTreeClassifier"
   ]
  },
  {
   "cell_type": "code",
   "execution_count": null,
   "metadata": {},
   "outputs": [],
   "source": [
    "from sklearn.model_selection import train_test_split\n",
    "X_train, X_test, y_train, y_test = train_test_split(X, y, \n",
    "                                                    test_size=0.2, random_state=42)"
   ]
  },
  {
   "cell_type": "markdown",
   "metadata": {},
   "source": [
    "Wczytajmy sobie funkcję od cross validacji"
   ]
  },
  {
   "cell_type": "code",
   "execution_count": null,
   "metadata": {},
   "outputs": [],
   "source": [
    "y_test"
   ]
  },
  {
   "cell_type": "code",
   "execution_count": null,
   "metadata": {},
   "outputs": [],
   "source": [
    "from sklearn.model_selection import cross_val_score # ogólna funkcja do CV\n",
    "from sklearn.model_selection import StratifiedKFold # podział na zbiory do CV"
   ]
  },
  {
   "cell_type": "markdown",
   "metadata": {},
   "source": [
    "Tutaj przygotowuję sobie listę w której będę trzymał wyniki cv dla różnych wartości parametru **max_depth**"
   ]
  },
  {
   "cell_type": "code",
   "execution_count": null,
   "metadata": {},
   "outputs": [],
   "source": [
    "results = []"
   ]
  },
  {
   "cell_type": "markdown",
   "metadata": {},
   "source": [
    "Sprawdzimy jakie wyniki uzyskujemy dla wartości z zakresu 1-10 dla parametru **max_depth**\n",
    "\n",
    "Cross validacji używamy poprzez podanie jej naszego klasyfikatora, obiektów X i y oraz informacji na ile kawałków ma je podzielić\n",
    "\n",
    "results.append(cośtam) oznacza, że do listy dodajemy na końcu element *cośtam*"
   ]
  },
  {
   "cell_type": "code",
   "execution_count": null,
   "metadata": {},
   "outputs": [],
   "source": [
    "skf = StratifiedKFold(n_splits = 5, random_state = 42)\n",
    "\n",
    "for depth in range (1,11):\n",
    "    classifier = DecisionTreeClassifier(criterion = \"entropy\", max_depth = depth)\n",
    "    scores = cross_val_score(classifier, X_train, y_train, cv = skf)\n",
    "    results.append(scores.mean())\n",
    "    print(\"Accuracy: {} (std {})\".format(scores.mean(), scores.std()))"
   ]
  },
  {
   "cell_type": "code",
   "execution_count": null,
   "metadata": {},
   "outputs": [],
   "source": [
    "import pandas as pd"
   ]
  },
  {
   "cell_type": "markdown",
   "metadata": {},
   "source": [
    "Testowaliśmy parametr **max_depth** w zakresie 1-10, zróbmy więc sobie szereg z takim indeksem i wynikiem CV jak wartościami"
   ]
  },
  {
   "cell_type": "code",
   "execution_count": null,
   "metadata": {},
   "outputs": [],
   "source": [
    "results = pd.Series(results, index = range(1,11))"
   ]
  },
  {
   "cell_type": "markdown",
   "metadata": {},
   "source": [
    "Ze względów historycznych matplotlib domyślnie nie wyświetla wykresów. Jeśli chcemy je obejrzeć, to powinniśmy użyć poniższej *magii* która powie mu że wykresy mają być wyświetlane w tym notebooku "
   ]
  },
  {
   "cell_type": "code",
   "execution_count": null,
   "metadata": {},
   "outputs": [],
   "source": [
    "%matplotlib inline"
   ]
  },
  {
   "cell_type": "markdown",
   "metadata": {},
   "source": [
    "Pandas używa wspomnianego matplotlib do tworzenia wykresów. "
   ]
  },
  {
   "cell_type": "code",
   "execution_count": null,
   "metadata": {},
   "outputs": [],
   "source": [
    "results.plot(grid = True)"
   ]
  },
  {
   "cell_type": "markdown",
   "metadata": {},
   "source": [
    "Nasze najwyższe accuracy jakie uzyskaliśmy w CV"
   ]
  },
  {
   "cell_type": "code",
   "execution_count": null,
   "metadata": {},
   "outputs": [],
   "source": [
    "results.max()"
   ]
  },
  {
   "cell_type": "markdown",
   "metadata": {},
   "source": [
    "Powyższe accuracy odpowiada poniższej wartości parametru **max_depth**"
   ]
  },
  {
   "cell_type": "code",
   "execution_count": null,
   "metadata": {},
   "outputs": [],
   "source": [
    "results[results == results.max()]"
   ]
  },
  {
   "cell_type": "markdown",
   "metadata": {},
   "source": [
    "Weźmy więc tę wartość i wytrenujmy jeszcze raz nasz klasyfikator"
   ]
  },
  {
   "cell_type": "code",
   "execution_count": null,
   "metadata": {},
   "outputs": [],
   "source": [
    "best_depth = results[results == results.max()].index.item()"
   ]
  },
  {
   "cell_type": "code",
   "execution_count": null,
   "metadata": {},
   "outputs": [],
   "source": [
    "classifier = DecisionTreeClassifier(criterion = \"entropy\", max_depth = best_depth)"
   ]
  },
  {
   "cell_type": "code",
   "execution_count": null,
   "metadata": {},
   "outputs": [],
   "source": [
    "classifier.fit(X = X_train, y = y_train)"
   ]
  },
  {
   "cell_type": "code",
   "execution_count": null,
   "metadata": {},
   "outputs": [],
   "source": [
    "predicted = classifier.predict(X_test)"
   ]
  },
  {
   "cell_type": "code",
   "execution_count": null,
   "metadata": {},
   "outputs": [],
   "source": [
    "wyniki = pd.DataFrame(y_test)\n",
    "wyniki[\"y_pred\"] = predicted\n",
    "wyniki.rename(columns = {\"Klasa\":\"y_test\"})"
   ]
  },
  {
   "cell_type": "code",
   "execution_count": null,
   "metadata": {},
   "outputs": [],
   "source": [
    "wyniki"
   ]
  },
  {
   "cell_type": "markdown",
   "metadata": {},
   "source": [
    "Policzmy accuracy dla zbioru test"
   ]
  },
  {
   "cell_type": "code",
   "execution_count": null,
   "metadata": {},
   "outputs": [],
   "source": [
    "from sklearn.metrics import accuracy_score"
   ]
  },
  {
   "cell_type": "code",
   "execution_count": null,
   "metadata": {},
   "outputs": [],
   "source": [
    "accuracy_score(y_true = wyniki[\"Klasa\"], y_pred = wyniki[\"y_pred\"])"
   ]
  },
  {
   "cell_type": "code",
   "execution_count": null,
   "metadata": {},
   "outputs": [],
   "source": [
    "print(wyniki[\"y_pred\"].value_counts())\n",
    "print(wyniki[\"Klasa\"].value_counts() )"
   ]
  },
  {
   "cell_type": "markdown",
   "metadata": {},
   "source": [
    "Sprawdźmy prawdopodobieństwa dla klas"
   ]
  },
  {
   "cell_type": "code",
   "execution_count": null,
   "metadata": {},
   "outputs": [],
   "source": [
    "proba = classifier.predict_proba(X_test)\n",
    "proba"
   ]
  },
  {
   "cell_type": "code",
   "execution_count": null,
   "metadata": {},
   "outputs": [],
   "source": [
    "classifier.feature_importances_"
   ]
  },
  {
   "cell_type": "markdown",
   "metadata": {},
   "source": [
    "4. Regresja (30%)\n",
    "Zbiór danych: https://archive.ics.uci.edu/ml/datasets/Wine+Quality - białe wino\n",
    "Jeden z algorytmów: decision tree, regresja logistyczna\n",
    "Użyć pętli dla przetestowania różnych wybranych parametrów\n",
    "Użyć cv\n"
   ]
  },
  {
   "cell_type": "code",
   "execution_count": null,
   "metadata": {},
   "outputs": [],
   "source": [
    "white_wine = pd.read_csv(\"winequality-white.csv\", header=0, sep=\";\")"
   ]
  },
  {
   "cell_type": "code",
   "execution_count": null,
   "metadata": {},
   "outputs": [],
   "source": [
    "white_wine.head()"
   ]
  },
  {
   "cell_type": "code",
   "execution_count": null,
   "metadata": {},
   "outputs": [],
   "source": [
    "train_w_white.describe()"
   ]
  },
  {
   "cell_type": "code",
   "execution_count": null,
   "metadata": {},
   "outputs": [],
   "source": [
    "from sklearn.tree import DecisionTreeRegressor\n",
    "from sklearn.model_selection import cross_val_score\n"
   ]
  },
  {
   "cell_type": "code",
   "execution_count": null,
   "metadata": {},
   "outputs": [],
   "source": [
    "X = pd.DataFrame(white_wine[[\"fixed acidity\",\"volatile acidity\",\"citric acid\",\"citric acid\",\"density\",\"sulphates\"]])\n",
    "y = pd.Series(white_wine[\"quality\"])\n"
   ]
  },
  {
   "cell_type": "code",
   "execution_count": null,
   "metadata": {},
   "outputs": [],
   "source": [
    "X.head()"
   ]
  },
  {
   "cell_type": "code",
   "execution_count": null,
   "metadata": {},
   "outputs": [],
   "source": [
    "from sklearn.model_selection import train_test_split\n",
    "X_train, X_test, y_train, y_test = train_test_split(X, y, \n",
    "                                                    test_size=0.33, random_state=42)"
   ]
  },
  {
   "cell_type": "code",
   "execution_count": null,
   "metadata": {},
   "outputs": [],
   "source": [
    "import numpy as np\n",
    "best_score = np.inf\n",
    "parameters = {}"
   ]
  },
  {
   "cell_type": "code",
   "execution_count": null,
   "metadata": {},
   "outputs": [],
   "source": [
    "for depth in range (1,11):\n",
    "    for min_split in range(2,11):\n",
    "        for min_leaf in range(1,11):\n",
    "            regressor = DecisionTreeRegressor(max_depth = depth,\n",
    "                                              min_samples_split = min_split,\n",
    "                                              min_samples_leaf = min_leaf)\n",
    "            scores = cross_val_score(regressor, X, y, cv = 5)\n",
    "            print(\"MSE: {} (std {})\".format(scores.mean(), scores.std()))\n",
    "            if scores.mean() < 0:\n",
    "                pass\n",
    "            elif scores.mean() < best_score:\n",
    "                print(\"New best parameters!\")\n",
    "                parameters[\"best_depth\"] = depth\n",
    "                parameters[\"best_min_split\"] = min_split\n",
    "                parameters[\"best_min_leaf\"] = min_leaf\n",
    "                best_score = scores.mean()"
   ]
  },
  {
   "cell_type": "code",
   "execution_count": null,
   "metadata": {},
   "outputs": [],
   "source": [
    "parameters"
   ]
  },
  {
   "cell_type": "code",
   "execution_count": null,
   "metadata": {},
   "outputs": [],
   "source": [
    "regressor = DecisionTreeRegressor(max_depth = parameters[\"best_depth\"],\n",
    "                                  min_samples_split = parameters[\"best_min_split\"],\n",
    "                                  min_samples_leaf = parameters[\"best_min_leaf\"])"
   ]
  },
  {
   "cell_type": "code",
   "execution_count": null,
   "metadata": {},
   "outputs": [],
   "source": [
    "regressor.fit(X = X, y = y)"
   ]
  },
  {
   "cell_type": "code",
   "execution_count": null,
   "metadata": {},
   "outputs": [],
   "source": [
    "prediction_regressor = regressor.predict(X_test)"
   ]
  },
  {
   "cell_type": "code",
   "execution_count": null,
   "metadata": {},
   "outputs": [],
   "source": [
    "results = pd.DataFrame({\"y_true\":y_test, \"y_regressor\":prediction_regressor})"
   ]
  },
  {
   "cell_type": "code",
   "execution_count": null,
   "metadata": {},
   "outputs": [],
   "source": [
    "results"
   ]
  }
 ],
 "metadata": {
  "kernelspec": {
   "display_name": "Python 3",
   "language": "python",
   "name": "python3"
  },
  "language_info": {
   "codemirror_mode": {
    "name": "ipython",
    "version": 3
   },
   "file_extension": ".py",
   "mimetype": "text/x-python",
   "name": "python",
   "nbconvert_exporter": "python",
   "pygments_lexer": "ipython3",
   "version": "3.6.4"
  }
 },
 "nbformat": 4,
 "nbformat_minor": 2
}
