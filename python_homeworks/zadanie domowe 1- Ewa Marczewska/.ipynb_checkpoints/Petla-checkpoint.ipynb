{
 "cells": [
  {
   "cell_type": "markdown",
   "metadata": {},
   "source": [
    "## Pętla \n"
   ]
  },
  {
   "cell_type": "markdown",
   "metadata": {},
   "source": [
    "Python (15%):\n",
    "Stworzyć listę 10 elementową z parami losowych liczb naturalnych od 1 d0 10. Cel: [(x1,y1),(x2,y2),...]\n",
    "Napisać funkcję która po otrzymaniu powyższej listy par stworzy listę z taką samą ilością elementów które będą potęgą: pierwszy element pary będzie podstawą a drugi element wykładnikiem. Cel: [x1^y1, x2^y2,...]\n",
    "\n",
    "Pandas (15%):\n",
    "Stworzyć data frame który będzie miał pierwsze elementy z par zadania powyżej jako pierwszą kolumnę,\n",
    "a drugi element z pary jako drugą kolumnę. Cel:\n",
    "\n",
    "0 x1 y1\n",
    "\n",
    "1 x2 y2\n",
    "...\n",
    "\n",
    "Dodać trzecią kolumnę która będzie potęgą tak jak w zadaniu 1. Uwaga: kolumna ta powinna być wyliczona z kolumny drugiej i trzeciej, a nie wzięta z listy z zadania 1. Cel: \n",
    "\n",
    "0 x1 y1 x1^y1\n",
    "\n",
    "1 x2 y2 x2^y2\n",
    "..."
   ]
  },
  {
   "cell_type": "code",
   "execution_count": 1,
   "metadata": {
    "ExecuteTime": {
     "end_time": "2018-05-31T09:32:30.875228Z",
     "start_time": "2018-05-31T09:32:30.867508Z"
    }
   },
   "outputs": [],
   "source": [
    "import random"
   ]
  },
  {
   "cell_type": "code",
   "execution_count": 26,
   "metadata": {
    "ExecuteTime": {
     "end_time": "2018-06-02T11:09:58.954736Z",
     "start_time": "2018-06-02T11:09:58.949719Z"
    }
   },
   "outputs": [
    {
     "name": "stdout",
     "output_type": "stream",
     "text": [
      "[[9, 7], [1, 10], [7, 1], [10, 8], [2, 8], [9, 1], [2, 5], [3, 4], [6, 4], [9, 3]]\n"
     ]
    }
   ],
   "source": [
    "import random  ## odp. zadznie 1\n",
    "lista = []\n",
    "for i in range(10):\n",
    "    lista.append(random.sample(range(1,11),2))\n",
    "    \n",
    "    \n",
    "print(lista)"
   ]
  },
  {
   "cell_type": "code",
   "execution_count": 28,
   "metadata": {
    "ExecuteTime": {
     "end_time": "2018-06-02T11:20:22.666582Z",
     "start_time": "2018-06-02T11:20:22.655581Z"
    }
   },
   "outputs": [
    {
     "name": "stdout",
     "output_type": "stream",
     "text": [
      "    x   y\n",
      "0   9   7\n",
      "1   1  10\n",
      "2   7   1\n",
      "3  10   8\n",
      "4   2   8\n",
      "5   9   1\n",
      "6   2   5\n",
      "7   3   4\n",
      "8   6   4\n",
      "9   9   3\n"
     ]
    }
   ],
   "source": [
    "import pandas as pd   # generuj data frame\n",
    "import numpy as np\n",
    "df = pd.DataFrame(data=lista, columns=[\"x\",\"y\"])\n",
    "print(df)"
   ]
  },
  {
   "cell_type": "code",
   "execution_count": 34,
   "metadata": {
    "ExecuteTime": {
     "end_time": "2018-06-02T11:38:12.787895Z",
     "start_time": "2018-06-02T11:38:12.777922Z"
    }
   },
   "outputs": [
    {
     "name": "stdout",
     "output_type": "stream",
     "text": [
      "    x   y     potega\n",
      "0   9   7    4782969\n",
      "1   1  10          1\n",
      "2   7   1          7\n",
      "3  10   8  100000000\n",
      "4   2   8        256\n",
      "5   9   1          9\n",
      "6   2   5         32\n",
      "7   3   4         81\n",
      "8   6   4       1296\n",
      "9   9   3        729\n"
     ]
    }
   ],
   "source": [
    "df[\"potega\"] = df[\"x\"]**df[\"y\"]\n",
    "print(df)"
   ]
  },
  {
   "cell_type": "markdown",
   "metadata": {},
   "source": [
    "## Regresja"
   ]
  },
  {
   "cell_type": "markdown",
   "metadata": {},
   "source": [
    "Regresja (30%) Zbiór danych: https://archive.ics.uci.edu/ml/datasets/Wine+Quality - białe wino Jeden z algorytmów: decision tree, regresja logistyczna Użyć pętli dla przetestowania różnych wybranych parametrów Użyć cv"
   ]
  },
  {
   "cell_type": "code",
   "execution_count": null,
   "metadata": {
    "ExecuteTime": {
     "end_time": "2018-05-30T20:43:51.643844Z",
     "start_time": "2018-05-30T20:43:51.637907Z"
    }
   },
   "outputs": [],
   "source": []
  }
 ],
 "metadata": {
  "kernelspec": {
   "display_name": "Python 3",
   "language": "python",
   "name": "python3"
  },
  "language_info": {
   "codemirror_mode": {
    "name": "ipython",
    "version": 3
   },
   "file_extension": ".py",
   "mimetype": "text/x-python",
   "name": "python",
   "nbconvert_exporter": "python",
   "pygments_lexer": "ipython3",
   "version": "3.6.5"
  }
 },
 "nbformat": 4,
 "nbformat_minor": 2
}
