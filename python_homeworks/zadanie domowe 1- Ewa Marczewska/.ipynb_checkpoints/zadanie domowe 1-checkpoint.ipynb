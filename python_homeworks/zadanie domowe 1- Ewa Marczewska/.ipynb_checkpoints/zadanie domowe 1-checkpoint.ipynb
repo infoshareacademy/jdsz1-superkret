{
 "cells": [
  {
   "cell_type": "markdown",
   "metadata": {},
   "source": [
    "## pętla \n"
   ]
  },
  {
   "cell_type": "markdown",
   "metadata": {},
   "source": [
    "Python (15%):\n",
    "Stworzyć listę 10 elementową z parami losowych liczb naturalnych od 1 d0 10. Cel: [(x1,y1),(x2,y2),...]\n",
    "Napisać funkcję która po otrzymaniu powyższej listy par stworzy listę z taką samą ilością elementów które będą potęgą: pierwszy element pary będzie podstawą a drugi element wykładnikiem. Cel: [x1^y1, x2^y2,...]\n",
    "\n",
    "Pandas (15%):\n",
    "Stworzyć data frame który będzie miał pierwsze elementy z par zadania powyżej jako pierwszą kolumnę,\n",
    "a drugi element z pary jako drugą kolumnę. Cel:\n",
    "\n",
    "0 x1 y1\n",
    "\n",
    "1 x2 y2\n",
    "...\n",
    "\n",
    "Dodać trzecią kolumnę która będzie potęgą tak jak w zadaniu 1. Uwaga: kolumna ta powinna być wyliczona z kolumny drugiej i trzeciej, a nie wzięta z listy z zadania 1. Cel: \n",
    "\n",
    "0 x1 y1 x1^y1\n",
    "\n",
    "1 x2 y2 x2^y2\n",
    "..."
   ]
  },
  {
   "cell_type": "code",
   "execution_count": 1,
   "metadata": {
    "ExecuteTime": {
     "end_time": "2018-05-31T09:32:30.875228Z",
     "start_time": "2018-05-31T09:32:30.867508Z"
    }
   },
   "outputs": [],
   "source": [
    "import random"
   ]
  },
  {
   "cell_type": "code",
   "execution_count": 2,
   "metadata": {
    "ExecuteTime": {
     "end_time": "2018-05-31T09:32:30.897982Z",
     "start_time": "2018-05-31T09:32:30.879649Z"
    }
   },
   "outputs": [
    {
     "data": {
      "text/plain": [
       "[8, 5, 5, 1, 8, 6, 6, 6, 4, 1]"
      ]
     },
     "execution_count": 2,
     "metadata": {},
     "output_type": "execute_result"
    }
   ],
   "source": [
    "[random.randrange(1, 10) for _ in range(0, 10)] # znalazłąm taka funkcję na SOF"
   ]
  },
  {
   "cell_type": "code",
   "execution_count": 3,
   "metadata": {
    "ExecuteTime": {
     "end_time": "2018-05-31T09:32:30.925965Z",
     "start_time": "2018-05-31T09:32:30.902017Z"
    }
   },
   "outputs": [
    {
     "name": "stdout",
     "output_type": "stream",
     "text": [
      "['00']\n",
      "['01']\n",
      "['02']\n",
      "['03']\n",
      "['04']\n",
      "['05']\n",
      "['06']\n",
      "['07']\n",
      "['08']\n",
      "['09']\n",
      "['010']\n",
      "['10']\n",
      "['11']\n",
      "['12']\n",
      "['13']\n",
      "['14']\n",
      "['15']\n",
      "['16']\n",
      "['17']\n",
      "['18']\n",
      "['19']\n",
      "['110']\n",
      "['20']\n",
      "['21']\n",
      "['22']\n",
      "['23']\n",
      "['24']\n",
      "['25']\n",
      "['26']\n",
      "['27']\n",
      "['28']\n",
      "['29']\n",
      "['210']\n",
      "['30']\n",
      "['31']\n",
      "['32']\n",
      "['33']\n",
      "['34']\n",
      "['35']\n",
      "['36']\n",
      "['37']\n",
      "['38']\n",
      "['39']\n",
      "['310']\n",
      "['40']\n",
      "['41']\n",
      "['42']\n",
      "['43']\n",
      "['44']\n",
      "['45']\n",
      "['46']\n",
      "['47']\n",
      "['48']\n",
      "['49']\n",
      "['410']\n",
      "['50']\n",
      "['51']\n",
      "['52']\n",
      "['53']\n",
      "['54']\n",
      "['55']\n",
      "['56']\n",
      "['57']\n",
      "['58']\n",
      "['59']\n",
      "['510']\n",
      "['60']\n",
      "['61']\n",
      "['62']\n",
      "['63']\n",
      "['64']\n",
      "['65']\n",
      "['66']\n",
      "['67']\n",
      "['68']\n",
      "['69']\n",
      "['610']\n",
      "['70']\n",
      "['71']\n",
      "['72']\n",
      "['73']\n",
      "['74']\n",
      "['75']\n",
      "['76']\n",
      "['77']\n",
      "['78']\n",
      "['79']\n",
      "['710']\n",
      "['80']\n",
      "['81']\n",
      "['82']\n",
      "['83']\n",
      "['84']\n",
      "['85']\n",
      "['86']\n",
      "['87']\n",
      "['88']\n",
      "['89']\n",
      "['810']\n",
      "['90']\n",
      "['91']\n",
      "['92']\n",
      "['93']\n",
      "['94']\n",
      "['95']\n",
      "['96']\n",
      "['97']\n",
      "['98']\n",
      "['99']\n",
      "['910']\n",
      "['100']\n",
      "['101']\n",
      "['102']\n",
      "['103']\n",
      "['104']\n",
      "['105']\n",
      "['106']\n",
      "['107']\n",
      "['108']\n",
      "['109']\n",
      "['1010']\n"
     ]
    }
   ],
   "source": [
    "for x in range(0,11):\n",
    "    for y in range(0,11):\n",
    "        print([(\"{}{}\".format(x,y))]) # test kodu z zajęć bez sumy"
   ]
  },
  {
   "cell_type": "code",
   "execution_count": 4,
   "metadata": {
    "ExecuteTime": {
     "end_time": "2018-05-31T09:32:30.937721Z",
     "start_time": "2018-05-31T09:32:30.928661Z"
    }
   },
   "outputs": [
    {
     "name": "stdout",
     "output_type": "stream",
     "text": [
      "[(1, 5), (1, 6), (1, 7), (2, 5), (2, 6), (2, 7), (3, 5), (3, 6), (3, 7)]\n"
     ]
    }
   ],
   "source": [
    "lista = []\n",
    "for x in [1,2,3]:\n",
    "    for y in [5,6,7]:\n",
    "        if x != y:\n",
    "            lista.append((x, y))\n",
    "\n",
    "print(lista)"
   ]
  },
  {
   "cell_type": "code",
   "execution_count": 1,
   "metadata": {
    "ExecuteTime": {
     "end_time": "2018-06-02T10:32:45.557043Z",
     "start_time": "2018-06-02T10:32:45.541084Z"
    }
   },
   "outputs": [
    {
     "name": "stdout",
     "output_type": "stream",
     "text": [
      "[(0, 1), (0, 2), (0, 3), (0, 4), (0, 5), (0, 6), (0, 7), (0, 8), (0, 9), (1, 0), (1, 2), (1, 3), (1, 4), (1, 5), (1, 6), (1, 7), (1, 8), (1, 9), (2, 0), (2, 1), (2, 3), (2, 4), (2, 5), (2, 6), (2, 7), (2, 8), (2, 9), (3, 0), (3, 1), (3, 2), (3, 4), (3, 5), (3, 6), (3, 7), (3, 8), (3, 9), (4, 0), (4, 1), (4, 2), (4, 3), (4, 5), (4, 6), (4, 7), (4, 8), (4, 9), (5, 0), (5, 1), (5, 2), (5, 3), (5, 4), (5, 6), (5, 7), (5, 8), (5, 9), (6, 0), (6, 1), (6, 2), (6, 3), (6, 4), (6, 5), (6, 7), (6, 8), (6, 9), (7, 0), (7, 1), (7, 2), (7, 3), (7, 4), (7, 5), (7, 6), (7, 8), (7, 9), (8, 0), (8, 1), (8, 2), (8, 3), (8, 4), (8, 5), (8, 6), (8, 7), (8, 9), (9, 0), (9, 1), (9, 2), (9, 3), (9, 4), (9, 5), (9, 6), (9, 7), (9, 8)]\n"
     ]
    }
   ],
   "source": [
    "import random\n",
    "lista = []\n",
    "for x in range(0,10):\n",
    "    for y in range(0,10):\n",
    "        if x != y:\n",
    "            lista.append((x, y))\n",
    "\n",
    "print(lista)"
   ]
  },
  {
   "cell_type": "code",
   "execution_count": 26,
   "metadata": {
    "ExecuteTime": {
     "end_time": "2018-06-02T11:09:58.954736Z",
     "start_time": "2018-06-02T11:09:58.949719Z"
    }
   },
   "outputs": [
    {
     "name": "stdout",
     "output_type": "stream",
     "text": [
      "[[9, 7], [1, 10], [7, 1], [10, 8], [2, 8], [9, 1], [2, 5], [3, 4], [6, 4], [9, 3]]\n"
     ]
    }
   ],
   "source": [
    "import random  ## odp. zadznie 1\n",
    "lista = []\n",
    "for i in range(10):\n",
    "    lista.append(random.sample(range(1,11),2))\n",
    "    \n",
    "    \n",
    "print(lista)"
   ]
  },
  {
   "cell_type": "code",
   "execution_count": 28,
   "metadata": {
    "ExecuteTime": {
     "end_time": "2018-06-02T11:20:22.666582Z",
     "start_time": "2018-06-02T11:20:22.655581Z"
    }
   },
   "outputs": [
    {
     "name": "stdout",
     "output_type": "stream",
     "text": [
      "    x   y\n",
      "0   9   7\n",
      "1   1  10\n",
      "2   7   1\n",
      "3  10   8\n",
      "4   2   8\n",
      "5   9   1\n",
      "6   2   5\n",
      "7   3   4\n",
      "8   6   4\n",
      "9   9   3\n"
     ]
    }
   ],
   "source": [
    "import pandas as pd   # generuj data frame\n",
    "import numpy as np\n",
    "df = pd.DataFrame(data=lista, columns=[\"x\",\"y\"])\n",
    "print(df)"
   ]
  },
  {
   "cell_type": "code",
   "execution_count": 34,
   "metadata": {
    "ExecuteTime": {
     "end_time": "2018-06-02T11:38:12.787895Z",
     "start_time": "2018-06-02T11:38:12.777922Z"
    }
   },
   "outputs": [
    {
     "name": "stdout",
     "output_type": "stream",
     "text": [
      "    x   y     potega\n",
      "0   9   7    4782969\n",
      "1   1  10          1\n",
      "2   7   1          7\n",
      "3  10   8  100000000\n",
      "4   2   8        256\n",
      "5   9   1          9\n",
      "6   2   5         32\n",
      "7   3   4         81\n",
      "8   6   4       1296\n",
      "9   9   3        729\n"
     ]
    }
   ],
   "source": [
    "df[\"potega\"] = df[\"x\"]**df[\"y\"]\n",
    "print(df)"
   ]
  },
  {
   "cell_type": "code",
   "execution_count": null,
   "metadata": {},
   "outputs": [],
   "source": []
  },
  {
   "cell_type": "code",
   "execution_count": 12,
   "metadata": {
    "ExecuteTime": {
     "end_time": "2018-06-02T10:56:46.713553Z",
     "start_time": "2018-06-02T10:56:46.708102Z"
    }
   },
   "outputs": [
    {
     "name": "stdout",
     "output_type": "stream",
     "text": [
      "[[11, 1], [11, 1], [11, 1], [11, 1], [1, 11], [1, 11], [11, 1], [1, 11], [11, 1], [11, 1]]\n"
     ]
    }
   ],
   "source": [
    "import random\n",
    "lista2 = []\n",
    "\n",
    "for i in range(10):\n",
    "    lista2.append(random.sample((1,11), 2))\n",
    "    \n",
    "    \n",
    "print(lista2)"
   ]
  },
  {
   "cell_type": "code",
   "execution_count": 15,
   "metadata": {
    "ExecuteTime": {
     "end_time": "2018-06-02T10:57:30.330040Z",
     "start_time": "2018-06-02T10:57:30.324060Z"
    }
   },
   "outputs": [
    {
     "name": "stdout",
     "output_type": "stream",
     "text": [
      "[(1, 3), (1, 0), (1, 8), (1, 7), (1, 9), (1, 6), (1, 2), (1, 3), (1, 4), (6, 9), (6, 3), (6, 4), (6, 8), (6, 1), (6, 5), (6, 5), (6, 8), (6, 5), (6, 5), (0, 5), (0, 8), (0, 3), (0, 2), (0, 6), (0, 2), (0, 4), (0, 4), (0, 7), (0, 6), (0, 7), (0, 6), (0, 5), (0, 1), (0, 1), (0, 5), (0, 4), (0, 1), (0, 4), (1, 5), (1, 3), (1, 8), (1, 7), (1, 8), (1, 8), (1, 4), (1, 9), (1, 8), (2, 4), (2, 3), (2, 3), (2, 5), (2, 7), (2, 8), (2, 4), (2, 9), (2, 4), (2, 6), (3, 2), (3, 8), (3, 6), (3, 4), (3, 8), (3, 9), (3, 2), (3, 1), (3, 0), (3, 5), (3, 1), (9, 3), (9, 1), (9, 6), (9, 3), (9, 5), (9, 0), (9, 7), (9, 1), (9, 1), (9, 2), (1, 4), (1, 3), (1, 5), (1, 4), (1, 2), (1, 6), (1, 9), (1, 5), (1, 8), (1, 0), (1, 9), (2, 3), (2, 4), (2, 5), (2, 8), (2, 4), (2, 4), (2, 9), (2, 1), (2, 8), (2, 7), (2, 0), (7, 3), (7, 1), (7, 3), (7, 1), (7, 0), (7, 4), (7, 8), (7, 4), (7, 4), (7, 1), (7, 0)]\n"
     ]
    }
   ],
   "source": [
    "list2 = []\n",
    "\n",
    "for x in [random.randrange(10) for x in range(0, 11)]:\n",
    "    for y in [random.randrange(10) for y in range(0, 11)]:\n",
    "        if x != y:\n",
    "            list2.append((x,y))\n",
    "            \n",
    "\n",
    "print(list2)    # jak sprawić żeby to był naprawde random i żeby lista miała 10 elementów"
   ]
  },
  {
   "cell_type": "code",
   "execution_count": 10,
   "metadata": {
    "ExecuteTime": {
     "end_time": "2018-05-31T09:36:28.531775Z",
     "start_time": "2018-05-31T09:36:28.519823Z"
    }
   },
   "outputs": [
    {
     "name": "stdout",
     "output_type": "stream",
     "text": [
      "    col1    col2  col3\n",
      "0  Item0    Blue     1\n",
      "1  Item0  Bronze     2\n",
      "2  Item1    Gold     3\n",
      "3  Item1  Silver     4\n"
     ]
    }
   ],
   "source": [
    "import numpy as np   # stwórz data frame\n",
    "import pandas\n",
    "\n",
    "df = pandas.DataFrame({\n",
    "   'col1': ['Item0', 'Item0', 'Item1', 'Item1'],\n",
    "   'col2': ['Blue', 'Bronze', 'Gold', 'Silver'],\n",
    "   'col3': [1, 2, 3, 4]\n",
    "})\n",
    "print(df)"
   ]
  },
  {
   "cell_type": "code",
   "execution_count": null,
   "metadata": {
    "ExecuteTime": {
     "end_time": "2018-05-30T20:43:51.643844Z",
     "start_time": "2018-05-30T20:43:51.637907Z"
    }
   },
   "outputs": [],
   "source": [
    "# CZy do pandas df możemy wrzucić listę ?"
   ]
  }
 ],
 "metadata": {
  "kernelspec": {
   "display_name": "Python 3",
   "language": "python",
   "name": "python3"
  },
  "language_info": {
   "codemirror_mode": {
    "name": "ipython",
    "version": 3
   },
   "file_extension": ".py",
   "mimetype": "text/x-python",
   "name": "python",
   "nbconvert_exporter": "python",
   "pygments_lexer": "ipython3",
   "version": "3.6.5"
  }
 },
 "nbformat": 4,
 "nbformat_minor": 2
}
