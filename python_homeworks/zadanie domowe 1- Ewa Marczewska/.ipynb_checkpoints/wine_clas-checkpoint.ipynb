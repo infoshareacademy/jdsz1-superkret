{
 "cells": [
  {
   "cell_type": "markdown",
   "metadata": {},
   "source": [
    "Klasyfikacja (30%):\n",
    "Zbiór danych: https://archive.ics.uci.edu/ml/datasets/wine \n",
    "Jeden z algorytmów: decision tree, regresja logistyczna\n",
    "Użyć pętli dla przetestowania różnych wybranych parametrów\n",
    "Użyć cv\n"
   ]
  },
  {
   "cell_type": "code",
   "execution_count": null,
   "metadata": {},
   "outputs": [],
   "source": []
  }
 ],
 "metadata": {
  "kernelspec": {
   "display_name": "Python 3",
   "language": "python",
   "name": "python3"
  },
  "language_info": {
   "codemirror_mode": {
    "name": "ipython",
    "version": 3
   },
   "file_extension": ".py",
   "mimetype": "text/x-python",
   "name": "python",
   "nbconvert_exporter": "python",
   "pygments_lexer": "ipython3",
   "version": "3.6.5"
  }
 },
 "nbformat": 4,
 "nbformat_minor": 2
}
